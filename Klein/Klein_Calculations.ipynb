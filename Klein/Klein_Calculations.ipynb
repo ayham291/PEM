{
 "cells": [
  {
   "cell_type": "code",
   "execution_count": null,
   "metadata": {},
   "outputs": [],
   "source": [
    "import pandas as pd\n",
    "import numpy as np\n",
    "import matplotlib.pyplot as plt\n",
    "import sympy as sp\n",
    "from scipy.interpolate import interp1d\n",
    "import scipy.constants as sconst\n",
    "plt.rcParams.update({\n",
    "  \"text.usetex\": True,\n",
    "  \"font.family\": \"Times New Roman\",\n",
    "  \"font.size\": 10,\n",
    "  \"axes.labelsize\": 10,\n",
    "  \"xtick.labelsize\": 10,\n",
    "  \"ytick.labelsize\": 10,\n",
    "  \"legend.fontsize\": 8,\n",
    "})\n",
    "plt.style.use(['science', 'ieee', 'grid'])\n",
    "from IPython.display import display\n",
    "from sympy.printing import latex"
   ]
  },
  {
   "cell_type": "markdown",
   "metadata": {},
   "source": [
    "4.3 Belasteter Motor\n",
    "\n",
    "U_A = 9V"
   ]
  },
  {
   "cell_type": "code",
   "execution_count": null,
   "metadata": {},
   "outputs": [],
   "source": [
    "R_Last_bz = [\n",
    "    \"All Switches Open\",\n",
    "    \"S1\",\n",
    "    \"S2\",\n",
    "    \"S1+S2\",\n",
    "    \"S1+S2+S3\",\n",
    "    \"S1+S2+S3+S4\",\n",
    "    \"S1+S2+S3+S4+S5\",\n",
    "]\n",
    "R_Last = np.array([np.Infinity, 20, 10, 6.67, 4, 2.86, 2.22])\n",
    "n = np.array([3766, 3548, 3385, 3261, 3080, 2962, 2868])\n",
    "U_A = np.ones(len(R_Last_bz))*9\n",
    "I_A = np.array([0.386, 0.724, 0.958, 1.146, 1.4, 1.565, 1.68])\n",
    "W = np.array([8.08, 9.29, 10.75, 11.53, 13.75, 15.15, 16.7])\n",
    "M = W*sconst.g*0.1\n",
    "\n",
    "data = []\n",
    "for i in range(len(R_Last_bz)):\n",
    "    data.append([R_Last_bz[i], R_Last[i], n[i], U_A[i], I_A[i], W[i], M[i]])\n",
    "\n",
    "# pd.DataFrame(data, columns=[\"Switches of Resistors\", \"$R_{Last}$\", \"$n\\, [min^-1]$\", \"$U_A\\,[V]$\", \"$I_A\\,[A]$\", \"Weight $[g]$\", \"$M\\,[m\\,Nm]$\"]).to_latex(\"tables/4.3_Belasteter_Motor_UA9V.tex\", index=False)\n",
    "# pd.DataFrame(data, columns=[\"Switches of Resistors\", \"$R_{Last}$\", \"$n\\, [min^-1]$\", \"$U_A\\,[V]$\", \"$I_A\\,[A]$\", \"Weight $[g]$\", \"$M\\,[m\\,Nm]$\"]).to_excel(\"excel/4.3_Belasteter_Motor_UA9V.xlsx\", index=False)\n",
    "pd.DataFrame(data, columns=[\"Switches of Resistors\", \"$R_{Last}$\", \"$n\\, [min^-1]$\", \"$U_A\\,[V]$\", \"$I_A\\,[A]$\", \"Weight $[g]$\", \"$M\\,[m\\,Nm]$\"])\n"
   ]
  },
  {
   "cell_type": "markdown",
   "metadata": {},
   "source": [
    "U_A=12V"
   ]
  },
  {
   "cell_type": "code",
   "execution_count": null,
   "metadata": {},
   "outputs": [],
   "source": [
    "n_12 = np.array([5100, 4760, 4563, 4390, 4150, 3980, 3910])\n",
    "U_A_12 = np.ones(len(R_Last_bz)) * 12\n",
    "I_A_12 = np.array([0.41, 0.87, 1.2, 1.44, 178, 2.02, 2.2])\n",
    "W_12 = np.array([8.06, 8.66, 9.22, 10.15, 12.48, 14.60, 16.93])\n",
    "M_12 = W_12 * sconst.g * 0.1\n",
    "\n",
    "\n",
    "data_12 = []\n",
    "for i in range(len(R_Last_bz)):\n",
    "    data_12.append([R_Last_bz[i], R_Last[i], n_12[i], U_A_12[i], I_A_12[i], W_12[i], M_12[i]])\n",
    "\n",
    "# pd.DataFrame(data_12, columns=[\"Switches of Resistors\", \"$R_{Last}$\", \"$n\\, [min^-1]$\", \"$U_A\\,[V]$\", \"$I_A\\,[A]$\", \"Weight $[g]$\", \"$M\\,[m\\,Nm]$\"]).to_latex(\"tables/4.3_Belasteter_Motor_UA12V.tex\", index=False)\n",
    "# pd.DataFrame(data_12, columns=[\"Switches of Resistors\", \"$R_{Last}$\", \"$n\\, [min^-1]$\", \"$U_A\\,[V]$\", \"$I_A\\,[A]$\", \"Weight $[g]$\", \"$M\\,[m\\,Nm]$\"]).to_excel(\"excel/4.3_Belasteter_Motor_UA12V.xlsx\", index=False)\n",
    "pd.DataFrame(data_12, columns=[ \"Switches of Resistors\", \"$R_{Last}$\", \"$n\\, [min^-1]$\", \"$U_A\\,[V]$\", \"$I_A\\,[A]$\", \"Weight $[g]$\", \"$M\\,[m\\,Nm]$\", ])\n"
   ]
  },
  {
   "cell_type": "code",
   "execution_count": null,
   "metadata": {},
   "outputs": [],
   "source": [
    "u9_xs = np.linspace(n.min(), n.max(), 100)\n",
    "u12_xs = np.linspace(n_12.min(), n_12.max(), 100)\n",
    "model_9 = np.polyfit(n, M, 1)\n",
    "model_12 = np.polyfit(n_12, M_12, 1)\n",
    "y_prediction = np.polyval(model_9, u9_xs)\n",
    "y_prediction_12 = np.polyval(model_12, u12_xs)\n",
    "\n",
    "fig, ax = plt.subplots(figsize=(5, 3.5))\n",
    "ax.plot(n, M, \"g.\", label=\"$M\\,[m\\,Nm]|U_A=9V$\")\n",
    "ax.plot(n_12, M_12, \"r.\", label=\"$M\\,[m\\,Nm] | U_A=12V$\")\n",
    "ax.plot(u9_xs, y_prediction, \"g--\")\n",
    "ax.plot(u12_xs, y_prediction_12, \"r--\")\n",
    "ax.set_xlabel(\"$n\\, [min^-1]$\")\n",
    "ax.set_ylabel(\"$M\\,[m\\,Nm]$\")\n",
    "\n",
    "ax.legend()\n",
    "plt.tight_layout()"
   ]
  }
 ],
 "metadata": {
  "interpreter": {
   "hash": "e7370f93d1d0cde622a1f8e1c04877d8463912d04d973331ad4851f04de6915a"
  },
  "kernelspec": {
   "display_name": "Python 3.10.4 64-bit",
   "language": "python",
   "name": "python3"
  },
  "language_info": {
   "codemirror_mode": {
    "name": "ipython",
    "version": 3
   },
   "file_extension": ".py",
   "mimetype": "text/x-python",
   "name": "python",
   "nbconvert_exporter": "python",
   "pygments_lexer": "ipython3",
   "version": "3.10.4"
  },
  "orig_nbformat": 4
 },
 "nbformat": 4,
 "nbformat_minor": 2
}
